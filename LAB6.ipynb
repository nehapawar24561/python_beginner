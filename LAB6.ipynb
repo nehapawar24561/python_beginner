{
 "cells": [
  {
   "cell_type": "markdown",
   "metadata": {},
   "source": [
    "This visualization represents SCU MSIS program rating. I have used University Ranking, Course Curriculum, Class Profile along with SCU MSIS graduate careeer growth over the years as the metrics to create the visualization."
   ]
  },
  {
   "cell_type": "markdown",
   "metadata": {},
   "source": [
    "PFB link for Tableau public visualization:\n",
    "\n",
    "https://public.tableau.com/profile/neha4079#!/vizhome/univ_ranking/LAB6?publish=yes"
   ]
  },
  {
   "cell_type": "markdown",
   "metadata": {},
   "source": [
    "University ranking along with Course Curriculum show that students are well-versed with required skillset for prospective job opportunities."
   ]
  },
  {
   "cell_type": "markdown",
   "metadata": {},
   "source": [
    "The class profile image is taken from Santa Clara University MSIS website. The average exam scores and GPA show that university only accepts competitive students, also it gives summary of where the alumni is working currently."
   ]
  },
  {
   "cell_type": "markdown",
   "metadata": {},
   "source": [
    "Also, as SCU is on quarter system, with the extensive course curriculum it proves that students can work in dynamic and fast paced environment."
   ]
  },
  {
   "cell_type": "code",
   "execution_count": null,
   "metadata": {
    "collapsed": true
   },
   "outputs": [],
   "source": []
  }
 ],
 "metadata": {
  "kernelspec": {
   "display_name": "Python 2",
   "language": "python",
   "name": "python2"
  },
  "language_info": {
   "codemirror_mode": {
    "name": "ipython",
    "version": 2
   },
   "file_extension": ".py",
   "mimetype": "text/x-python",
   "name": "python",
   "nbconvert_exporter": "python",
   "pygments_lexer": "ipython2",
   "version": "2.7.13"
  }
 },
 "nbformat": 4,
 "nbformat_minor": 2
}
