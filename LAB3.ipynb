{
 "cells": [
  {
   "cell_type": "markdown",
   "metadata": {},
   "source": [
    "<b> LAB Assignment 3 Student Name: Neha Pawar Student ID: 1286279 </b>"
   ]
  },
  {
   "cell_type": "markdown",
   "metadata": {},
   "source": [
    "Claim : Financial Markets do punish security breaches."
   ]
  },
  {
   "cell_type": "markdown",
   "metadata": {},
   "source": [
    "https://public.tableau.com/profile/neha4079#!/vizhome/LAB3_attempt1/LAB3?publish=yes"
   ]
  },
  {
   "cell_type": "markdown",
   "metadata": {},
   "source": [
    "PFB Data wrangling steps:"
   ]
  },
  {
   "cell_type": "code",
   "execution_count": null,
   "metadata": {
    "collapsed": true
   },
   "outputs": [],
   "source": [
    "import pandas as pd\n",
    "import json\n",
    "import requests\n",
    "import urllib\n",
    "import datetime as dt\n",
    "import pandas_datareader as pdr"
   ]
  },
  {
   "cell_type": "code",
   "execution_count": 92,
   "metadata": {
    "collapsed": true
   },
   "outputs": [],
   "source": [
    "#coverting a csv file into a dataframe\n",
    "databreach_2017 = pd.read_csv('databreach_2017.csv')"
   ]
  },
  {
   "cell_type": "code",
   "execution_count": 110,
   "metadata": {
    "collapsed": true
   },
   "outputs": [],
   "source": [
    "del databreach_2017['Unnamed: 0']"
   ]
  },
  {
   "cell_type": "code",
   "execution_count": 111,
   "metadata": {},
   "outputs": [
    {
     "data": {
      "text/html": [
       "<div>\n",
       "<style>\n",
       "    .dataframe thead tr:only-child th {\n",
       "        text-align: right;\n",
       "    }\n",
       "\n",
       "    .dataframe thead th {\n",
       "        text-align: left;\n",
       "    }\n",
       "\n",
       "    .dataframe tbody tr th {\n",
       "        vertical-align: top;\n",
       "    }\n",
       "</style>\n",
       "<table border=\"1\" class=\"dataframe\">\n",
       "  <thead>\n",
       "    <tr style=\"text-align: right;\">\n",
       "      <th></th>\n",
       "      <th>ENTITY</th>\n",
       "      <th>YEAR</th>\n",
       "      <th>RECORDS LOST</th>\n",
       "      <th>ORGANISATION</th>\n",
       "      <th>METHOD OF LEAK</th>\n",
       "      <th>DATA SENSITIVITY</th>\n",
       "    </tr>\n",
       "  </thead>\n",
       "  <tbody>\n",
       "    <tr>\n",
       "      <th>0</th>\n",
       "      <td>AOL</td>\n",
       "      <td>2004</td>\n",
       "      <td>92000000</td>\n",
       "      <td>web</td>\n",
       "      <td>inside job</td>\n",
       "      <td>Just email address/Online information</td>\n",
       "    </tr>\n",
       "    <tr>\n",
       "      <th>1</th>\n",
       "      <td>Automatic Data Processing</td>\n",
       "      <td>2005</td>\n",
       "      <td>125000</td>\n",
       "      <td>financial</td>\n",
       "      <td>poor security</td>\n",
       "      <td>SSN/Personal details</td>\n",
       "    </tr>\n",
       "    <tr>\n",
       "      <th>2</th>\n",
       "      <td>Ameritrade Inc.</td>\n",
       "      <td>2005</td>\n",
       "      <td>200000</td>\n",
       "      <td>financial</td>\n",
       "      <td>lost / stolen device</td>\n",
       "      <td>SSN/Personal details</td>\n",
       "    </tr>\n",
       "    <tr>\n",
       "      <th>3</th>\n",
       "      <td>Citigroup</td>\n",
       "      <td>2005</td>\n",
       "      <td>3900000</td>\n",
       "      <td>financial</td>\n",
       "      <td>lost / stolen device</td>\n",
       "      <td>Credit card information</td>\n",
       "    </tr>\n",
       "    <tr>\n",
       "      <th>4</th>\n",
       "      <td>Cardsystems Solutions Inc.</td>\n",
       "      <td>2005</td>\n",
       "      <td>40000000</td>\n",
       "      <td>financial</td>\n",
       "      <td>hacked</td>\n",
       "      <td>Credit card information</td>\n",
       "    </tr>\n",
       "  </tbody>\n",
       "</table>\n",
       "</div>"
      ],
      "text/plain": [
       "                        ENTITY  YEAR  RECORDS LOST ORGANISATION  \\\n",
       "0                          AOL  2004      92000000          web   \n",
       "1    Automatic Data Processing  2005        125000    financial   \n",
       "2              Ameritrade Inc.  2005        200000    financial   \n",
       "3                    Citigroup  2005       3900000    financial   \n",
       "4  Cardsystems Solutions Inc.   2005      40000000    financial   \n",
       "\n",
       "         METHOD OF LEAK                       DATA SENSITIVITY  \n",
       "0            inside job  Just email address/Online information  \n",
       "1         poor security                   SSN/Personal details  \n",
       "2  lost / stolen device                   SSN/Personal details  \n",
       "3  lost / stolen device                Credit card information  \n",
       "4                hacked                Credit card information  "
      ]
     },
     "execution_count": 111,
     "metadata": {},
     "output_type": "execute_result"
    }
   ],
   "source": [
    "databreach_2017.head()"
   ]
  },
  {
   "cell_type": "code",
   "execution_count": null,
   "metadata": {
    "collapsed": true
   },
   "outputs": [],
   "source": [
    "databreach_2017.to_csv('databreach_2017.csv')"
   ]
  },
  {
   "cell_type": "markdown",
   "metadata": {},
   "source": [
    "Collecting ticker value for the given Entites:"
   ]
  },
  {
   "cell_type": "code",
   "execution_count": null,
   "metadata": {},
   "outputs": [],
   "source": [
    "def get_symbol(name):\n",
    "    url = \"http://d.yimg.com/autoc.finance.yahoo.com/autoc?query={}&region=1&lang=en\".format(name)\n",
    "\n",
    "    result = requests.get(url).json()\n",
    "    \n",
    "    for x in result['ResultSet']['Result']:\n",
    "        #if x['name'] == name :\n",
    "            #if (x['exchDisp']=='NYSE'or x['exchDisp']=='NASDAQ'):\n",
    "                #if x['typeDisp']=='Equity':\n",
    "                    return x['symbol']\n",
    "        \n",
    "##company = get_symbol(\"twitter\")\n",
    "##print(company)\n",
    "ticker=[]\n",
    "company = databreach_2017.ENTITY\n",
    "##for  xyz in cmp_name:\n",
    "    ##ticker = get_symbol(xyz)\n",
    "    ##print(ticker)\n",
    "    \n",
    "for  tkr in company:\n",
    "    ticker.append(get_symbol(tkr))"
   ]
  },
  {
   "cell_type": "code",
   "execution_count": 131,
   "metadata": {
    "collapsed": true
   },
   "outputs": [],
   "source": [
    "#created ticker dataframe (to add column 'ticker' to databreach_2017 dataframe)\n",
    "orig_ticker = pd.DataFrame(ticker) \n",
    "orig_ticker['Ticker_Symbol'] = pd.Series(ticker, index=data_ticker.index)"
   ]
  },
  {
   "cell_type": "code",
   "execution_count": 132,
   "metadata": {
    "collapsed": true
   },
   "outputs": [],
   "source": [
    "databreach_2017['Ticker_symbol']= data_ticker['Ticker_Symbol']"
   ]
  },
  {
   "cell_type": "code",
   "execution_count": 133,
   "metadata": {
    "collapsed": true
   },
   "outputs": [],
   "source": [
    "#Drop empty columns(axis=1 for columns and axis=0 for rows; \n",
    "#how='all' to drop if all values are nan and how='any' to drop if any value is nan)\n",
    "databreach_2017 = databreach_2017.dropna(axis=0,how='any')"
   ]
  },
  {
   "cell_type": "code",
   "execution_count": 134,
   "metadata": {},
   "outputs": [
    {
     "data": {
      "text/html": [
       "<div>\n",
       "<style>\n",
       "    .dataframe thead tr:only-child th {\n",
       "        text-align: right;\n",
       "    }\n",
       "\n",
       "    .dataframe thead th {\n",
       "        text-align: left;\n",
       "    }\n",
       "\n",
       "    .dataframe tbody tr th {\n",
       "        vertical-align: top;\n",
       "    }\n",
       "</style>\n",
       "<table border=\"1\" class=\"dataframe\">\n",
       "  <thead>\n",
       "    <tr style=\"text-align: right;\">\n",
       "      <th></th>\n",
       "      <th>ENTITY</th>\n",
       "      <th>YEAR</th>\n",
       "      <th>RECORDS LOST</th>\n",
       "      <th>ORGANISATION</th>\n",
       "      <th>METHOD OF LEAK</th>\n",
       "      <th>DATA SENSITIVITY</th>\n",
       "      <th>Ticker_symbol</th>\n",
       "    </tr>\n",
       "  </thead>\n",
       "  <tbody>\n",
       "    <tr>\n",
       "      <th>0</th>\n",
       "      <td>AOL</td>\n",
       "      <td>2004</td>\n",
       "      <td>92000000</td>\n",
       "      <td>web</td>\n",
       "      <td>inside job</td>\n",
       "      <td>Just email address/Online information</td>\n",
       "      <td>AOL-U.TI</td>\n",
       "    </tr>\n",
       "    <tr>\n",
       "      <th>1</th>\n",
       "      <td>Automatic Data Processing</td>\n",
       "      <td>2005</td>\n",
       "      <td>125000</td>\n",
       "      <td>financial</td>\n",
       "      <td>poor security</td>\n",
       "      <td>SSN/Personal details</td>\n",
       "      <td>ADP</td>\n",
       "    </tr>\n",
       "    <tr>\n",
       "      <th>3</th>\n",
       "      <td>Citigroup</td>\n",
       "      <td>2005</td>\n",
       "      <td>3900000</td>\n",
       "      <td>financial</td>\n",
       "      <td>lost / stolen device</td>\n",
       "      <td>Credit card information</td>\n",
       "      <td>CIT-U.TI</td>\n",
       "    </tr>\n",
       "    <tr>\n",
       "      <th>5</th>\n",
       "      <td>Hewlett Packard</td>\n",
       "      <td>2006</td>\n",
       "      <td>200000</td>\n",
       "      <td>tech, retail</td>\n",
       "      <td>lost / stolen device</td>\n",
       "      <td>SSN/Personal details</td>\n",
       "      <td>HPQ</td>\n",
       "    </tr>\n",
       "    <tr>\n",
       "      <th>7</th>\n",
       "      <td>KDDI</td>\n",
       "      <td>2006</td>\n",
       "      <td>4000000</td>\n",
       "      <td>telecoms</td>\n",
       "      <td>hacked</td>\n",
       "      <td>Just email address/Online information</td>\n",
       "      <td>KDDIY</td>\n",
       "    </tr>\n",
       "  </tbody>\n",
       "</table>\n",
       "</div>"
      ],
      "text/plain": [
       "                      ENTITY  YEAR  RECORDS LOST  ORGANISATION  \\\n",
       "0                        AOL  2004      92000000           web   \n",
       "1  Automatic Data Processing  2005        125000     financial   \n",
       "3                  Citigroup  2005       3900000     financial   \n",
       "5            Hewlett Packard  2006        200000  tech, retail   \n",
       "7                       KDDI  2006       4000000      telecoms   \n",
       "\n",
       "         METHOD OF LEAK                       DATA SENSITIVITY Ticker_symbol  \n",
       "0            inside job  Just email address/Online information      AOL-U.TI  \n",
       "1         poor security                   SSN/Personal details           ADP  \n",
       "3  lost / stolen device                Credit card information      CIT-U.TI  \n",
       "5  lost / stolen device                   SSN/Personal details           HPQ  \n",
       "7                hacked  Just email address/Online information         KDDIY  "
      ]
     },
     "execution_count": 134,
     "metadata": {},
     "output_type": "execute_result"
    }
   ],
   "source": [
    "databreach_2017.head()"
   ]
  },
  {
   "cell_type": "code",
   "execution_count": 135,
   "metadata": {
    "collapsed": true
   },
   "outputs": [],
   "source": [
    "databreach_2017.to_csv('LAB3_ticker.csv')"
   ]
  },
  {
   "cell_type": "code",
   "execution_count": 97,
   "metadata": {},
   "outputs": [
    {
     "name": "stderr",
     "output_type": "stream",
     "text": [
      "/anaconda/lib/python2.7/site-packages/pandas_datareader/yahoo/daily.py:136: SymbolWarning: Failed to read symbol: u'SAND-P.V', replacing with NaN.\n",
      "  warnings.warn(msg.format(sym), SymbolWarning)\n"
     ]
    }
   ],
   "source": [
    "#getting stock price data for the available ticker's data\n",
    "start = dt.datetime(2004,1,1)\n",
    "end = dt.datetime(2017,6,6)\n",
    "data_source = 'yahoo'\n",
    "tickerdata = pdr.DataReader(ticker, data_source, start, end)"
   ]
  },
  {
   "cell_type": "code",
   "execution_count": 98,
   "metadata": {},
   "outputs": [
    {
     "data": {
      "text/plain": [
       "<class 'pandas.core.panel.Panel'>\n",
       "Dimensions: 6 (items) x 3567 (major_axis) x 63 (minor_axis)\n",
       "Items axis: Adj Close to Volume\n",
       "Major_axis axis: 2004-01-01 00:00:00 to 2017-06-07 00:00:00\n",
       "Minor_axis axis: None to ^UMIAMIFL"
      ]
     },
     "execution_count": 98,
     "metadata": {},
     "output_type": "execute_result"
    }
   ],
   "source": [
    "tickerdata"
   ]
  },
  {
   "cell_type": "markdown",
   "metadata": {},
   "source": [
    "Covert Tickerdata into a dataframe:"
   ]
  },
  {
   "cell_type": "code",
   "execution_count": 99,
   "metadata": {},
   "outputs": [
    {
     "name": "stderr",
     "output_type": "stream",
     "text": [
      "/anaconda/lib/python2.7/site-packages/ipykernel_launcher.py:1: DeprecationWarning: \n",
      ".ix is deprecated. Please use\n",
      ".loc for label based indexing or\n",
      ".iloc for positional indexing\n",
      "\n",
      "See the documentation here:\n",
      "http://pandas.pydata.org/pandas-docs/stable/indexing.html#ix-indexer-is-deprecated\n",
      "  \"\"\"Entry point for launching an IPython kernel.\n"
     ]
    }
   ],
   "source": [
    "tickerdata = tickerdata.ix['Close']"
   ]
  },
  {
   "cell_type": "code",
   "execution_count": 100,
   "metadata": {
    "collapsed": true
   },
   "outputs": [],
   "source": [
    "all_weekdays = pd.date_range(start=start, end=end, freq='B')"
   ]
  },
  {
   "cell_type": "code",
   "execution_count": 101,
   "metadata": {
    "collapsed": true
   },
   "outputs": [],
   "source": [
    "tickerdata = tickerdata.reindex(all_weekdays)"
   ]
  },
  {
   "cell_type": "code",
   "execution_count": 102,
   "metadata": {},
   "outputs": [
    {
     "data": {
      "text/html": [
       "<div>\n",
       "<style>\n",
       "    .dataframe thead tr:only-child th {\n",
       "        text-align: right;\n",
       "    }\n",
       "\n",
       "    .dataframe thead th {\n",
       "        text-align: left;\n",
       "    }\n",
       "\n",
       "    .dataframe tbody tr th {\n",
       "        vertical-align: top;\n",
       "    }\n",
       "</style>\n",
       "<table border=\"1\" class=\"dataframe\">\n",
       "  <thead>\n",
       "    <tr style=\"text-align: right;\">\n",
       "      <th></th>\n",
       "      <th>None</th>\n",
       "      <th>0303.HK</th>\n",
       "      <th>035080.KQ</th>\n",
       "      <th>1880.HK</th>\n",
       "      <th>2GF.F</th>\n",
       "      <th>AABA</th>\n",
       "      <th>AAPL</th>\n",
       "      <th>ADBE</th>\n",
       "      <th>ADP</th>\n",
       "      <th>AMTD</th>\n",
       "      <th>...</th>\n",
       "      <th>TALK.L</th>\n",
       "      <th>TGT</th>\n",
       "      <th>TWTR</th>\n",
       "      <th>UBI.PA</th>\n",
       "      <th>UPS</th>\n",
       "      <th>VKTX</th>\n",
       "      <th>VOD</th>\n",
       "      <th>YAHOY</th>\n",
       "      <th>^CEX</th>\n",
       "      <th>^UMIAMIFL</th>\n",
       "    </tr>\n",
       "  </thead>\n",
       "  <tbody>\n",
       "    <tr>\n",
       "      <th>2004-01-01</th>\n",
       "      <td>NaN</td>\n",
       "      <td>11.05</td>\n",
       "      <td>NaN</td>\n",
       "      <td>NaN</td>\n",
       "      <td>NaN</td>\n",
       "      <td>NaN</td>\n",
       "      <td>NaN</td>\n",
       "      <td>NaN</td>\n",
       "      <td>NaN</td>\n",
       "      <td>NaN</td>\n",
       "      <td>...</td>\n",
       "      <td>NaN</td>\n",
       "      <td>NaN</td>\n",
       "      <td>NaN</td>\n",
       "      <td>5.5900</td>\n",
       "      <td>NaN</td>\n",
       "      <td>NaN</td>\n",
       "      <td>NaN</td>\n",
       "      <td>NaN</td>\n",
       "      <td>NaN</td>\n",
       "      <td>NaN</td>\n",
       "    </tr>\n",
       "    <tr>\n",
       "      <th>2004-01-02</th>\n",
       "      <td>NaN</td>\n",
       "      <td>11.00</td>\n",
       "      <td>2543.219971</td>\n",
       "      <td>NaN</td>\n",
       "      <td>NaN</td>\n",
       "      <td>22.700001</td>\n",
       "      <td>1.520000</td>\n",
       "      <td>19.549999</td>\n",
       "      <td>31.690842</td>\n",
       "      <td>14.15</td>\n",
       "      <td>...</td>\n",
       "      <td>NaN</td>\n",
       "      <td>37.720001</td>\n",
       "      <td>NaN</td>\n",
       "      <td>5.6125</td>\n",
       "      <td>73.650002</td>\n",
       "      <td>NaN</td>\n",
       "      <td>29.485947</td>\n",
       "      <td>NaN</td>\n",
       "      <td>197.270004</td>\n",
       "      <td>NaN</td>\n",
       "    </tr>\n",
       "    <tr>\n",
       "      <th>2004-01-05</th>\n",
       "      <td>NaN</td>\n",
       "      <td>11.60</td>\n",
       "      <td>2713.330078</td>\n",
       "      <td>NaN</td>\n",
       "      <td>NaN</td>\n",
       "      <td>23.450001</td>\n",
       "      <td>1.583571</td>\n",
       "      <td>19.900000</td>\n",
       "      <td>32.626656</td>\n",
       "      <td>14.88</td>\n",
       "      <td>...</td>\n",
       "      <td>NaN</td>\n",
       "      <td>37.400002</td>\n",
       "      <td>NaN</td>\n",
       "      <td>5.8125</td>\n",
       "      <td>73.930000</td>\n",
       "      <td>NaN</td>\n",
       "      <td>30.650940</td>\n",
       "      <td>NaN</td>\n",
       "      <td>200.089996</td>\n",
       "      <td>NaN</td>\n",
       "    </tr>\n",
       "    <tr>\n",
       "      <th>2004-01-06</th>\n",
       "      <td>NaN</td>\n",
       "      <td>11.55</td>\n",
       "      <td>2721.840088</td>\n",
       "      <td>NaN</td>\n",
       "      <td>NaN</td>\n",
       "      <td>23.620001</td>\n",
       "      <td>1.577857</td>\n",
       "      <td>19.920000</td>\n",
       "      <td>32.935951</td>\n",
       "      <td>15.00</td>\n",
       "      <td>...</td>\n",
       "      <td>NaN</td>\n",
       "      <td>38.570000</td>\n",
       "      <td>NaN</td>\n",
       "      <td>5.6775</td>\n",
       "      <td>73.480003</td>\n",
       "      <td>NaN</td>\n",
       "      <td>31.116936</td>\n",
       "      <td>NaN</td>\n",
       "      <td>198.300003</td>\n",
       "      <td>NaN</td>\n",
       "    </tr>\n",
       "    <tr>\n",
       "      <th>2004-01-07</th>\n",
       "      <td>NaN</td>\n",
       "      <td>11.70</td>\n",
       "      <td>2768.620117</td>\n",
       "      <td>NaN</td>\n",
       "      <td>NaN</td>\n",
       "      <td>23.834999</td>\n",
       "      <td>1.613571</td>\n",
       "      <td>19.719999</td>\n",
       "      <td>32.761478</td>\n",
       "      <td>15.14</td>\n",
       "      <td>...</td>\n",
       "      <td>NaN</td>\n",
       "      <td>38.270000</td>\n",
       "      <td>NaN</td>\n",
       "      <td>5.6975</td>\n",
       "      <td>73.239998</td>\n",
       "      <td>NaN</td>\n",
       "      <td>31.000437</td>\n",
       "      <td>NaN</td>\n",
       "      <td>197.759995</td>\n",
       "      <td>NaN</td>\n",
       "    </tr>\n",
       "  </tbody>\n",
       "</table>\n",
       "<p>5 rows × 63 columns</p>\n",
       "</div>"
      ],
      "text/plain": [
       "            NaN  0303.HK    035080.KQ  1880.HK  2GF.F       AABA      AAPL  \\\n",
       "2004-01-01  NaN    11.05          NaN      NaN    NaN        NaN       NaN   \n",
       "2004-01-02  NaN    11.00  2543.219971      NaN    NaN  22.700001  1.520000   \n",
       "2004-01-05  NaN    11.60  2713.330078      NaN    NaN  23.450001  1.583571   \n",
       "2004-01-06  NaN    11.55  2721.840088      NaN    NaN  23.620001  1.577857   \n",
       "2004-01-07  NaN    11.70  2768.620117      NaN    NaN  23.834999  1.613571   \n",
       "\n",
       "                 ADBE        ADP   AMTD    ...      TALK.L        TGT  TWTR  \\\n",
       "2004-01-01        NaN        NaN    NaN    ...         NaN        NaN   NaN   \n",
       "2004-01-02  19.549999  31.690842  14.15    ...         NaN  37.720001   NaN   \n",
       "2004-01-05  19.900000  32.626656  14.88    ...         NaN  37.400002   NaN   \n",
       "2004-01-06  19.920000  32.935951  15.00    ...         NaN  38.570000   NaN   \n",
       "2004-01-07  19.719999  32.761478  15.14    ...         NaN  38.270000   NaN   \n",
       "\n",
       "            UBI.PA        UPS  VKTX        VOD  YAHOY        ^CEX  ^UMIAMIFL  \n",
       "2004-01-01  5.5900        NaN   NaN        NaN    NaN         NaN        NaN  \n",
       "2004-01-02  5.6125  73.650002   NaN  29.485947    NaN  197.270004        NaN  \n",
       "2004-01-05  5.8125  73.930000   NaN  30.650940    NaN  200.089996        NaN  \n",
       "2004-01-06  5.6775  73.480003   NaN  31.116936    NaN  198.300003        NaN  \n",
       "2004-01-07  5.6975  73.239998   NaN  31.000437    NaN  197.759995        NaN  \n",
       "\n",
       "[5 rows x 63 columns]"
      ]
     },
     "execution_count": 102,
     "metadata": {},
     "output_type": "execute_result"
    }
   ],
   "source": [
    "tickerdata.head(5)"
   ]
  },
  {
   "cell_type": "code",
   "execution_count": 103,
   "metadata": {
    "collapsed": true
   },
   "outputs": [],
   "source": [
    "tickerdata = tickerdata.dropna(axis=1,how='all')"
   ]
  },
  {
   "cell_type": "code",
   "execution_count": 104,
   "metadata": {},
   "outputs": [
    {
     "data": {
      "text/html": [
       "<div>\n",
       "<style>\n",
       "    .dataframe thead tr:only-child th {\n",
       "        text-align: right;\n",
       "    }\n",
       "\n",
       "    .dataframe thead th {\n",
       "        text-align: left;\n",
       "    }\n",
       "\n",
       "    .dataframe tbody tr th {\n",
       "        vertical-align: top;\n",
       "    }\n",
       "</style>\n",
       "<table border=\"1\" class=\"dataframe\">\n",
       "  <thead>\n",
       "    <tr style=\"text-align: right;\">\n",
       "      <th></th>\n",
       "      <th>0303.HK</th>\n",
       "      <th>035080.KQ</th>\n",
       "      <th>2GF.F</th>\n",
       "      <th>AABA</th>\n",
       "      <th>AAPL</th>\n",
       "      <th>ADBE</th>\n",
       "      <th>ADP</th>\n",
       "      <th>AMTD</th>\n",
       "      <th>ANTM</th>\n",
       "      <th>AT</th>\n",
       "      <th>...</th>\n",
       "      <th>SPLS</th>\n",
       "      <th>TALK.L</th>\n",
       "      <th>TGT</th>\n",
       "      <th>TWTR</th>\n",
       "      <th>UBI.PA</th>\n",
       "      <th>UPS</th>\n",
       "      <th>VKTX</th>\n",
       "      <th>VOD</th>\n",
       "      <th>YAHOY</th>\n",
       "      <th>^CEX</th>\n",
       "    </tr>\n",
       "  </thead>\n",
       "  <tbody>\n",
       "    <tr>\n",
       "      <th>2004-01-01</th>\n",
       "      <td>11.05</td>\n",
       "      <td>NaN</td>\n",
       "      <td>NaN</td>\n",
       "      <td>NaN</td>\n",
       "      <td>NaN</td>\n",
       "      <td>NaN</td>\n",
       "      <td>NaN</td>\n",
       "      <td>NaN</td>\n",
       "      <td>NaN</td>\n",
       "      <td>NaN</td>\n",
       "      <td>...</td>\n",
       "      <td>NaN</td>\n",
       "      <td>NaN</td>\n",
       "      <td>NaN</td>\n",
       "      <td>NaN</td>\n",
       "      <td>5.5900</td>\n",
       "      <td>NaN</td>\n",
       "      <td>NaN</td>\n",
       "      <td>NaN</td>\n",
       "      <td>NaN</td>\n",
       "      <td>NaN</td>\n",
       "    </tr>\n",
       "    <tr>\n",
       "      <th>2004-01-02</th>\n",
       "      <td>11.00</td>\n",
       "      <td>2543.219971</td>\n",
       "      <td>NaN</td>\n",
       "      <td>22.700001</td>\n",
       "      <td>1.520000</td>\n",
       "      <td>19.549999</td>\n",
       "      <td>31.690842</td>\n",
       "      <td>14.15</td>\n",
       "      <td>38.139999</td>\n",
       "      <td>NaN</td>\n",
       "      <td>...</td>\n",
       "      <td>17.500000</td>\n",
       "      <td>NaN</td>\n",
       "      <td>37.720001</td>\n",
       "      <td>NaN</td>\n",
       "      <td>5.6125</td>\n",
       "      <td>73.650002</td>\n",
       "      <td>NaN</td>\n",
       "      <td>29.485947</td>\n",
       "      <td>NaN</td>\n",
       "      <td>197.270004</td>\n",
       "    </tr>\n",
       "    <tr>\n",
       "      <th>2004-01-05</th>\n",
       "      <td>11.60</td>\n",
       "      <td>2713.330078</td>\n",
       "      <td>NaN</td>\n",
       "      <td>23.450001</td>\n",
       "      <td>1.583571</td>\n",
       "      <td>19.900000</td>\n",
       "      <td>32.626656</td>\n",
       "      <td>14.88</td>\n",
       "      <td>36.855000</td>\n",
       "      <td>NaN</td>\n",
       "      <td>...</td>\n",
       "      <td>17.507000</td>\n",
       "      <td>NaN</td>\n",
       "      <td>37.400002</td>\n",
       "      <td>NaN</td>\n",
       "      <td>5.8125</td>\n",
       "      <td>73.930000</td>\n",
       "      <td>NaN</td>\n",
       "      <td>30.650940</td>\n",
       "      <td>NaN</td>\n",
       "      <td>200.089996</td>\n",
       "    </tr>\n",
       "    <tr>\n",
       "      <th>2004-01-06</th>\n",
       "      <td>11.55</td>\n",
       "      <td>2721.840088</td>\n",
       "      <td>NaN</td>\n",
       "      <td>23.620001</td>\n",
       "      <td>1.577857</td>\n",
       "      <td>19.920000</td>\n",
       "      <td>32.935951</td>\n",
       "      <td>15.00</td>\n",
       "      <td>37.055000</td>\n",
       "      <td>NaN</td>\n",
       "      <td>...</td>\n",
       "      <td>17.372999</td>\n",
       "      <td>NaN</td>\n",
       "      <td>38.570000</td>\n",
       "      <td>NaN</td>\n",
       "      <td>5.6775</td>\n",
       "      <td>73.480003</td>\n",
       "      <td>NaN</td>\n",
       "      <td>31.116936</td>\n",
       "      <td>NaN</td>\n",
       "      <td>198.300003</td>\n",
       "    </tr>\n",
       "    <tr>\n",
       "      <th>2004-01-07</th>\n",
       "      <td>11.70</td>\n",
       "      <td>2768.620117</td>\n",
       "      <td>NaN</td>\n",
       "      <td>23.834999</td>\n",
       "      <td>1.613571</td>\n",
       "      <td>19.719999</td>\n",
       "      <td>32.761478</td>\n",
       "      <td>15.14</td>\n",
       "      <td>37.250000</td>\n",
       "      <td>NaN</td>\n",
       "      <td>...</td>\n",
       "      <td>17.920000</td>\n",
       "      <td>NaN</td>\n",
       "      <td>38.270000</td>\n",
       "      <td>NaN</td>\n",
       "      <td>5.6975</td>\n",
       "      <td>73.239998</td>\n",
       "      <td>NaN</td>\n",
       "      <td>31.000437</td>\n",
       "      <td>NaN</td>\n",
       "      <td>197.759995</td>\n",
       "    </tr>\n",
       "  </tbody>\n",
       "</table>\n",
       "<p>5 rows × 52 columns</p>\n",
       "</div>"
      ],
      "text/plain": [
       "            0303.HK    035080.KQ  2GF.F       AABA      AAPL       ADBE  \\\n",
       "2004-01-01    11.05          NaN    NaN        NaN       NaN        NaN   \n",
       "2004-01-02    11.00  2543.219971    NaN  22.700001  1.520000  19.549999   \n",
       "2004-01-05    11.60  2713.330078    NaN  23.450001  1.583571  19.900000   \n",
       "2004-01-06    11.55  2721.840088    NaN  23.620001  1.577857  19.920000   \n",
       "2004-01-07    11.70  2768.620117    NaN  23.834999  1.613571  19.719999   \n",
       "\n",
       "                  ADP   AMTD       ANTM  AT     ...           SPLS  TALK.L  \\\n",
       "2004-01-01        NaN    NaN        NaN NaN     ...            NaN     NaN   \n",
       "2004-01-02  31.690842  14.15  38.139999 NaN     ...      17.500000     NaN   \n",
       "2004-01-05  32.626656  14.88  36.855000 NaN     ...      17.507000     NaN   \n",
       "2004-01-06  32.935951  15.00  37.055000 NaN     ...      17.372999     NaN   \n",
       "2004-01-07  32.761478  15.14  37.250000 NaN     ...      17.920000     NaN   \n",
       "\n",
       "                  TGT  TWTR  UBI.PA        UPS  VKTX        VOD  YAHOY  \\\n",
       "2004-01-01        NaN   NaN  5.5900        NaN   NaN        NaN    NaN   \n",
       "2004-01-02  37.720001   NaN  5.6125  73.650002   NaN  29.485947    NaN   \n",
       "2004-01-05  37.400002   NaN  5.8125  73.930000   NaN  30.650940    NaN   \n",
       "2004-01-06  38.570000   NaN  5.6775  73.480003   NaN  31.116936    NaN   \n",
       "2004-01-07  38.270000   NaN  5.6975  73.239998   NaN  31.000437    NaN   \n",
       "\n",
       "                  ^CEX  \n",
       "2004-01-01         NaN  \n",
       "2004-01-02  197.270004  \n",
       "2004-01-05  200.089996  \n",
       "2004-01-06  198.300003  \n",
       "2004-01-07  197.759995  \n",
       "\n",
       "[5 rows x 52 columns]"
      ]
     },
     "execution_count": 104,
     "metadata": {},
     "output_type": "execute_result"
    }
   ],
   "source": [
    "tickerdata.head(5)"
   ]
  },
  {
   "cell_type": "code",
   "execution_count": 112,
   "metadata": {
    "collapsed": true
   },
   "outputs": [],
   "source": [
    "avg_data = tickerdata.groupby(pd.TimeGrouper(freq='12M')).mean()"
   ]
  },
  {
   "cell_type": "code",
   "execution_count": 113,
   "metadata": {},
   "outputs": [
    {
     "data": {
      "text/html": [
       "<div>\n",
       "<style>\n",
       "    .dataframe thead tr:only-child th {\n",
       "        text-align: right;\n",
       "    }\n",
       "\n",
       "    .dataframe thead th {\n",
       "        text-align: left;\n",
       "    }\n",
       "\n",
       "    .dataframe tbody tr th {\n",
       "        vertical-align: top;\n",
       "    }\n",
       "</style>\n",
       "<table border=\"1\" class=\"dataframe\">\n",
       "  <thead>\n",
       "    <tr style=\"text-align: right;\">\n",
       "      <th></th>\n",
       "      <th>0303.HK</th>\n",
       "      <th>035080.KQ</th>\n",
       "      <th>2GF.F</th>\n",
       "      <th>AABA</th>\n",
       "      <th>AAPL</th>\n",
       "      <th>ADBE</th>\n",
       "      <th>ADP</th>\n",
       "      <th>AMTD</th>\n",
       "      <th>ANTM</th>\n",
       "      <th>AT</th>\n",
       "      <th>...</th>\n",
       "      <th>SPLS</th>\n",
       "      <th>TALK.L</th>\n",
       "      <th>TGT</th>\n",
       "      <th>TWTR</th>\n",
       "      <th>UBI.PA</th>\n",
       "      <th>UPS</th>\n",
       "      <th>VKTX</th>\n",
       "      <th>VOD</th>\n",
       "      <th>YAHOY</th>\n",
       "      <th>^CEX</th>\n",
       "    </tr>\n",
       "  </thead>\n",
       "  <tbody>\n",
       "    <tr>\n",
       "      <th>2004-01-31</th>\n",
       "      <td>11.956818</td>\n",
       "      <td>2758.696682</td>\n",
       "      <td>NaN</td>\n",
       "      <td>23.770250</td>\n",
       "      <td>1.628678</td>\n",
       "      <td>19.025500</td>\n",
       "      <td>32.813820</td>\n",
       "      <td>15.622000</td>\n",
       "      <td>38.528499</td>\n",
       "      <td>NaN</td>\n",
       "      <td>...</td>\n",
       "      <td>17.421300</td>\n",
       "      <td>NaN</td>\n",
       "      <td>38.162000</td>\n",
       "      <td>NaN</td>\n",
       "      <td>5.517955</td>\n",
       "      <td>72.591500</td>\n",
       "      <td>NaN</td>\n",
       "      <td>31.031309</td>\n",
       "      <td>NaN</td>\n",
       "      <td>194.836001</td>\n",
       "    </tr>\n",
       "    <tr>\n",
       "      <th>2005-01-31</th>\n",
       "      <td>13.152299</td>\n",
       "      <td>2051.893008</td>\n",
       "      <td>NaN</td>\n",
       "      <td>30.758254</td>\n",
       "      <td>2.800831</td>\n",
       "      <td>23.892837</td>\n",
       "      <td>34.064935</td>\n",
       "      <td>12.953095</td>\n",
       "      <td>45.859802</td>\n",
       "      <td>NaN</td>\n",
       "      <td>...</td>\n",
       "      <td>19.206939</td>\n",
       "      <td>NaN</td>\n",
       "      <td>45.924206</td>\n",
       "      <td>NaN</td>\n",
       "      <td>4.835096</td>\n",
       "      <td>74.770833</td>\n",
       "      <td>NaN</td>\n",
       "      <td>28.588626</td>\n",
       "      <td>NaN</td>\n",
       "      <td>202.757976</td>\n",
       "    </tr>\n",
       "    <tr>\n",
       "      <th>2006-01-31</th>\n",
       "      <td>19.583469</td>\n",
       "      <td>4614.145226</td>\n",
       "      <td>NaN</td>\n",
       "      <td>35.605357</td>\n",
       "      <td>7.157752</td>\n",
       "      <td>31.566151</td>\n",
       "      <td>35.050695</td>\n",
       "      <td>17.794405</td>\n",
       "      <td>70.039623</td>\n",
       "      <td>NaN</td>\n",
       "      <td>...</td>\n",
       "      <td>21.836479</td>\n",
       "      <td>NaN</td>\n",
       "      <td>53.296627</td>\n",
       "      <td>NaN</td>\n",
       "      <td>9.529148</td>\n",
       "      <td>73.008691</td>\n",
       "      <td>NaN</td>\n",
       "      <td>29.382577</td>\n",
       "      <td>NaN</td>\n",
       "      <td>225.389841</td>\n",
       "    </tr>\n",
       "    <tr>\n",
       "      <th>2007-01-31</th>\n",
       "      <td>38.933400</td>\n",
       "      <td>7148.666972</td>\n",
       "      <td>NaN</td>\n",
       "      <td>29.151554</td>\n",
       "      <td>10.241833</td>\n",
       "      <td>35.627809</td>\n",
       "      <td>36.863325</td>\n",
       "      <td>17.797131</td>\n",
       "      <td>75.366893</td>\n",
       "      <td>NaN</td>\n",
       "      <td>...</td>\n",
       "      <td>24.889084</td>\n",
       "      <td>NaN</td>\n",
       "      <td>53.445179</td>\n",
       "      <td>NaN</td>\n",
       "      <td>10.626167</td>\n",
       "      <td>76.269841</td>\n",
       "      <td>NaN</td>\n",
       "      <td>25.398224</td>\n",
       "      <td>NaN</td>\n",
       "      <td>236.457410</td>\n",
       "    </tr>\n",
       "    <tr>\n",
       "      <th>2008-01-31</th>\n",
       "      <td>59.039634</td>\n",
       "      <td>5795.079755</td>\n",
       "      <td>NaN</td>\n",
       "      <td>27.017421</td>\n",
       "      <td>19.153662</td>\n",
       "      <td>41.782699</td>\n",
       "      <td>40.408635</td>\n",
       "      <td>18.087817</td>\n",
       "      <td>81.085000</td>\n",
       "      <td>NaN</td>\n",
       "      <td>...</td>\n",
       "      <td>24.129445</td>\n",
       "      <td>NaN</td>\n",
       "      <td>60.269524</td>\n",
       "      <td>NaN</td>\n",
       "      <td>22.347837</td>\n",
       "      <td>72.929643</td>\n",
       "      <td>NaN</td>\n",
       "      <td>33.282122</td>\n",
       "      <td>NaN</td>\n",
       "      <td>290.555873</td>\n",
       "    </tr>\n",
       "  </tbody>\n",
       "</table>\n",
       "<p>5 rows × 52 columns</p>\n",
       "</div>"
      ],
      "text/plain": [
       "              0303.HK    035080.KQ  2GF.F       AABA       AAPL       ADBE  \\\n",
       "2004-01-31  11.956818  2758.696682    NaN  23.770250   1.628678  19.025500   \n",
       "2005-01-31  13.152299  2051.893008    NaN  30.758254   2.800831  23.892837   \n",
       "2006-01-31  19.583469  4614.145226    NaN  35.605357   7.157752  31.566151   \n",
       "2007-01-31  38.933400  7148.666972    NaN  29.151554  10.241833  35.627809   \n",
       "2008-01-31  59.039634  5795.079755    NaN  27.017421  19.153662  41.782699   \n",
       "\n",
       "                  ADP       AMTD       ANTM  AT     ...           SPLS  \\\n",
       "2004-01-31  32.813820  15.622000  38.528499 NaN     ...      17.421300   \n",
       "2005-01-31  34.064935  12.953095  45.859802 NaN     ...      19.206939   \n",
       "2006-01-31  35.050695  17.794405  70.039623 NaN     ...      21.836479   \n",
       "2007-01-31  36.863325  17.797131  75.366893 NaN     ...      24.889084   \n",
       "2008-01-31  40.408635  18.087817  81.085000 NaN     ...      24.129445   \n",
       "\n",
       "            TALK.L        TGT  TWTR     UBI.PA        UPS  VKTX        VOD  \\\n",
       "2004-01-31     NaN  38.162000   NaN   5.517955  72.591500   NaN  31.031309   \n",
       "2005-01-31     NaN  45.924206   NaN   4.835096  74.770833   NaN  28.588626   \n",
       "2006-01-31     NaN  53.296627   NaN   9.529148  73.008691   NaN  29.382577   \n",
       "2007-01-31     NaN  53.445179   NaN  10.626167  76.269841   NaN  25.398224   \n",
       "2008-01-31     NaN  60.269524   NaN  22.347837  72.929643   NaN  33.282122   \n",
       "\n",
       "            YAHOY        ^CEX  \n",
       "2004-01-31    NaN  194.836001  \n",
       "2005-01-31    NaN  202.757976  \n",
       "2006-01-31    NaN  225.389841  \n",
       "2007-01-31    NaN  236.457410  \n",
       "2008-01-31    NaN  290.555873  \n",
       "\n",
       "[5 rows x 52 columns]"
      ]
     },
     "execution_count": 113,
     "metadata": {},
     "output_type": "execute_result"
    }
   ],
   "source": [
    "avg_data.head()"
   ]
  },
  {
   "cell_type": "code",
   "execution_count": 114,
   "metadata": {
    "collapsed": true
   },
   "outputs": [],
   "source": [
    "final_ticker_data = avg_data.T"
   ]
  },
  {
   "cell_type": "code",
   "execution_count": 117,
   "metadata": {},
   "outputs": [
    {
     "data": {
      "text/html": [
       "<div>\n",
       "<style>\n",
       "    .dataframe thead tr:only-child th {\n",
       "        text-align: right;\n",
       "    }\n",
       "\n",
       "    .dataframe thead th {\n",
       "        text-align: left;\n",
       "    }\n",
       "\n",
       "    .dataframe tbody tr th {\n",
       "        vertical-align: top;\n",
       "    }\n",
       "</style>\n",
       "<table border=\"1\" class=\"dataframe\">\n",
       "  <thead>\n",
       "    <tr style=\"text-align: right;\">\n",
       "      <th></th>\n",
       "      <th>2004-01-31 00:00:00</th>\n",
       "      <th>2005-01-31 00:00:00</th>\n",
       "      <th>2006-01-31 00:00:00</th>\n",
       "      <th>2007-01-31 00:00:00</th>\n",
       "      <th>2008-01-31 00:00:00</th>\n",
       "      <th>2009-01-31 00:00:00</th>\n",
       "      <th>2010-01-31 00:00:00</th>\n",
       "      <th>2011-01-31 00:00:00</th>\n",
       "      <th>2012-01-31 00:00:00</th>\n",
       "      <th>2013-01-31 00:00:00</th>\n",
       "      <th>2014-01-31 00:00:00</th>\n",
       "      <th>2015-01-31 00:00:00</th>\n",
       "      <th>2016-01-31 00:00:00</th>\n",
       "      <th>2017-01-31 00:00:00</th>\n",
       "      <th>2018-01-31 00:00:00</th>\n",
       "    </tr>\n",
       "  </thead>\n",
       "  <tbody>\n",
       "    <tr>\n",
       "      <th>0303.HK</th>\n",
       "      <td>11.956818</td>\n",
       "      <td>13.152299</td>\n",
       "      <td>19.583469</td>\n",
       "      <td>38.933400</td>\n",
       "      <td>59.039634</td>\n",
       "      <td>38.519918</td>\n",
       "      <td>54.180478</td>\n",
       "      <td>83.305400</td>\n",
       "      <td>84.078189</td>\n",
       "      <td>90.429</td>\n",
       "      <td>105.294262</td>\n",
       "      <td>100.252632</td>\n",
       "      <td>96.951220</td>\n",
       "      <td>89.317073</td>\n",
       "      <td>98.114881</td>\n",
       "    </tr>\n",
       "    <tr>\n",
       "      <th>035080.KQ</th>\n",
       "      <td>2758.696682</td>\n",
       "      <td>2051.893008</td>\n",
       "      <td>4614.145226</td>\n",
       "      <td>7148.666972</td>\n",
       "      <td>5795.079755</td>\n",
       "      <td>4404.571429</td>\n",
       "      <td>6234.212598</td>\n",
       "      <td>5103.869048</td>\n",
       "      <td>5319.190283</td>\n",
       "      <td>6211.400</td>\n",
       "      <td>9145.510204</td>\n",
       "      <td>11107.398374</td>\n",
       "      <td>10496.048387</td>\n",
       "      <td>6609.085366</td>\n",
       "      <td>5116.726190</td>\n",
       "    </tr>\n",
       "  </tbody>\n",
       "</table>\n",
       "</div>"
      ],
      "text/plain": [
       "            2004-01-31   2005-01-31   2006-01-31   2007-01-31   2008-01-31  \\\n",
       "0303.HK      11.956818    13.152299    19.583469    38.933400    59.039634   \n",
       "035080.KQ  2758.696682  2051.893008  4614.145226  7148.666972  5795.079755   \n",
       "\n",
       "            2009-01-31   2010-01-31   2011-01-31   2012-01-31  2013-01-31  \\\n",
       "0303.HK      38.519918    54.180478    83.305400    84.078189      90.429   \n",
       "035080.KQ  4404.571429  6234.212598  5103.869048  5319.190283    6211.400   \n",
       "\n",
       "            2014-01-31    2015-01-31    2016-01-31   2017-01-31   2018-01-31  \n",
       "0303.HK     105.294262    100.252632     96.951220    89.317073    98.114881  \n",
       "035080.KQ  9145.510204  11107.398374  10496.048387  6609.085366  5116.726190  "
      ]
     },
     "execution_count": 117,
     "metadata": {},
     "output_type": "execute_result"
    }
   ],
   "source": [
    "final_ticker_data.head(2)"
   ]
  },
  {
   "cell_type": "code",
   "execution_count": 126,
   "metadata": {
    "collapsed": true
   },
   "outputs": [],
   "source": [
    "#created a dataframe for de-normalized data about Ticker symbol, date and corresponding stock price\n",
    "tickerdf = pd.DataFrame(columns=['Symbol','Date','Price'])\n",
    "d =0\n",
    "for i in range(len(final_ticker_data)) : \n",
    "    ts = final_ticker_data.index[i]\n",
    "    for j in range(len(final_ticker_data.iloc[i])): \n",
    "        timet = pd.to_datetime(str(final_ticker_data.columns.values[j]))\n",
    "        date = timet.strftime('%Y-%m-%d')\n",
    "        tickerdf.loc[d]=( ts,  date , final_ticker_data.iloc[i][j])\n",
    "        d=d+1"
   ]
  },
  {
   "cell_type": "code",
   "execution_count": 127,
   "metadata": {},
   "outputs": [
    {
     "data": {
      "text/html": [
       "<div>\n",
       "<style>\n",
       "    .dataframe thead tr:only-child th {\n",
       "        text-align: right;\n",
       "    }\n",
       "\n",
       "    .dataframe thead th {\n",
       "        text-align: left;\n",
       "    }\n",
       "\n",
       "    .dataframe tbody tr th {\n",
       "        vertical-align: top;\n",
       "    }\n",
       "</style>\n",
       "<table border=\"1\" class=\"dataframe\">\n",
       "  <thead>\n",
       "    <tr style=\"text-align: right;\">\n",
       "      <th></th>\n",
       "      <th>Symbol</th>\n",
       "      <th>Date</th>\n",
       "      <th>Price</th>\n",
       "    </tr>\n",
       "  </thead>\n",
       "  <tbody>\n",
       "    <tr>\n",
       "      <th>0</th>\n",
       "      <td>0303.HK</td>\n",
       "      <td>2004-01-31</td>\n",
       "      <td>11.956818</td>\n",
       "    </tr>\n",
       "    <tr>\n",
       "      <th>1</th>\n",
       "      <td>0303.HK</td>\n",
       "      <td>2005-01-31</td>\n",
       "      <td>13.152299</td>\n",
       "    </tr>\n",
       "    <tr>\n",
       "      <th>2</th>\n",
       "      <td>0303.HK</td>\n",
       "      <td>2006-01-31</td>\n",
       "      <td>19.583469</td>\n",
       "    </tr>\n",
       "    <tr>\n",
       "      <th>3</th>\n",
       "      <td>0303.HK</td>\n",
       "      <td>2007-01-31</td>\n",
       "      <td>38.933400</td>\n",
       "    </tr>\n",
       "    <tr>\n",
       "      <th>4</th>\n",
       "      <td>0303.HK</td>\n",
       "      <td>2008-01-31</td>\n",
       "      <td>59.039634</td>\n",
       "    </tr>\n",
       "  </tbody>\n",
       "</table>\n",
       "</div>"
      ],
      "text/plain": [
       "    Symbol        Date      Price\n",
       "0  0303.HK  2004-01-31  11.956818\n",
       "1  0303.HK  2005-01-31  13.152299\n",
       "2  0303.HK  2006-01-31  19.583469\n",
       "3  0303.HK  2007-01-31  38.933400\n",
       "4  0303.HK  2008-01-31  59.039634"
      ]
     },
     "execution_count": 127,
     "metadata": {},
     "output_type": "execute_result"
    }
   ],
   "source": [
    "tickerdf.head()"
   ]
  },
  {
   "cell_type": "code",
   "execution_count": 128,
   "metadata": {
    "collapsed": true
   },
   "outputs": [],
   "source": [
    "#Removing rows with null values\n",
    "tickerdf = tickerdf.dropna(axis=0,how='any')"
   ]
  },
  {
   "cell_type": "code",
   "execution_count": 130,
   "metadata": {
    "collapsed": true
   },
   "outputs": [],
   "source": [
    "tickerdf.to_csv('ticker_data_LAB3.csv')"
   ]
  },
  {
   "cell_type": "code",
   "execution_count": null,
   "metadata": {
    "collapsed": true
   },
   "outputs": [],
   "source": []
  },
  {
   "cell_type": "code",
   "execution_count": null,
   "metadata": {
    "collapsed": true
   },
   "outputs": [],
   "source": []
  },
  {
   "cell_type": "code",
   "execution_count": null,
   "metadata": {
    "collapsed": true
   },
   "outputs": [],
   "source": []
  },
  {
   "cell_type": "code",
   "execution_count": null,
   "metadata": {
    "collapsed": true
   },
   "outputs": [],
   "source": []
  },
  {
   "cell_type": "code",
   "execution_count": null,
   "metadata": {
    "collapsed": true
   },
   "outputs": [],
   "source": []
  },
  {
   "cell_type": "code",
   "execution_count": 59,
   "metadata": {
    "collapsed": true
   },
   "outputs": [],
   "source": []
  },
  {
   "cell_type": "raw",
   "metadata": {},
   "source": []
  },
  {
   "cell_type": "code",
   "execution_count": null,
   "metadata": {
    "collapsed": true
   },
   "outputs": [],
   "source": []
  },
  {
   "cell_type": "code",
   "execution_count": null,
   "metadata": {
    "collapsed": true
   },
   "outputs": [],
   "source": []
  }
 ],
 "metadata": {
  "kernelspec": {
   "display_name": "Python 2",
   "language": "python",
   "name": "python2"
  },
  "language_info": {
   "codemirror_mode": {
    "name": "ipython",
    "version": 2
   },
   "file_extension": ".py",
   "mimetype": "text/x-python",
   "name": "python",
   "nbconvert_exporter": "python",
   "pygments_lexer": "ipython2",
   "version": "2.7.13"
  }
 },
 "nbformat": 4,
 "nbformat_minor": 2
}
