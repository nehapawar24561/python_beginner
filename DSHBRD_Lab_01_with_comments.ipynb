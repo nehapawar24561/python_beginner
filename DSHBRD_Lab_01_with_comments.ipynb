{
 "cells": [
  {
   "cell_type": "code",
   "execution_count": 99,
   "metadata": {
    "collapsed": true
   },
   "outputs": [],
   "source": [
    "import pandas as pd"
   ]
  },
  {
   "cell_type": "code",
   "execution_count": 100,
   "metadata": {
    "collapsed": true
   },
   "outputs": [],
   "source": [
    "import csv"
   ]
  },
  {
   "cell_type": "code",
   "execution_count": 104,
   "metadata": {},
   "outputs": [
    {
     "name": "stdout",
     "output_type": "stream",
     "text": [
      "/Users/MyMac/Desktop/data\n"
     ]
    }
   ],
   "source": [
    "cd data"
   ]
  },
  {
   "cell_type": "code",
   "execution_count": 105,
   "metadata": {},
   "outputs": [
    {
     "name": "stdout",
     "output_type": "stream",
     "text": [
      "Information is Beautiful- Data Breaches (public) - 2017 update.csv\r\n",
      "Information is Beautiful- Data Breaches (public) - Jan 2015 update.csv\r\n",
      "Information is Beautiful- Data Breaches (public) - July 2013 update (old).csv\r\n",
      "databreach_2013.csv\r\n",
      "databreach_2015.csv\r\n",
      "databreach_2017.csv\r\n",
      "db_data_2017.csv\r\n"
     ]
    }
   ],
   "source": [
    "ls"
   ]
  },
  {
   "cell_type": "code",
   "execution_count": 106,
   "metadata": {
    "collapsed": true
   },
   "outputs": [],
   "source": [
    "#coverting a csv file into a dataframe\n",
    "db_data_2017 = pd.read_csv('Information is Beautiful- Data Breaches (public) - 2017 update.csv')"
   ]
  },
  {
   "cell_type": "code",
   "execution_count": 107,
   "metadata": {},
   "outputs": [],
   "source": [
    "#skipping first empty row\n",
    "with open(\"Information is Beautiful- Data Breaches (public) - 2017 update.csv\",'r') as f, open(\"db_data_2017.csv\",'w') as f1:\n",
    "    next(f) # skip header line\n",
    "    for line in f:\n",
    "        f1.write(line)"
   ]
  },
  {
   "cell_type": "code",
   "execution_count": 108,
   "metadata": {},
   "outputs": [],
   "source": [
    "db_data_2017 = pd.read_csv('db_data_2017.csv')"
   ]
  },
  {
   "cell_type": "code",
   "execution_count": 109,
   "metadata": {},
   "outputs": [],
   "source": [
    "#skipping row with information about columns\n",
    "db_data_2017 = db_data_2017.dropna(subset=['Entity'], how='any')"
   ]
  },
  {
   "cell_type": "code",
   "execution_count": null,
   "metadata": {
    "collapsed": true
   },
   "outputs": [],
   "source": []
  },
  {
   "cell_type": "code",
   "execution_count": 110,
   "metadata": {},
   "outputs": [
    {
     "name": "stdout",
     "output_type": "stream",
     "text": [
      "['Entity,alternative name,story,YEAR,records lost,ORGANISATION,METHOD OF LEAK,interesting story,NO OF RECORDS STOLEN,DATA SENSITIVITY,UNUSED,UNUSED,Exclude,,1st source link,2nd source link,3rd source,source name\\r\\n', ',,Elaboration if there\\'s an interesting story or detail behind it,\"years are encoded (0=2004, 8 = 2012, 9 = 2013, 10=2014, 11=2015, 12=2016, 13 = 2017, 14=latest\",\"(use 3m, 4m, 5m or 10m to approximate unknown figures)\",,,,\"(use 3m, 4m, 5m or 10m to approximate unknown figures)\",1. Just email address/Online information 20 SSN/Personal details 300 Credit card information 4000 Email password/Health records 50000 Full bank account details,,,Show this item in the viz?,,,,,\\r\\n', 'AOL,American Online,A former America Online software engineer stole 92 million screen names and e-mail addresses and sold them to spammers who sent out up to 7 billion unsolicited e-mails.,0,92000000,web,inside job,,92000000,1,,,,,http://money.cnn.com/2004/06/23/technology/aol_spam/,http://www.msnbc.msn.com/id/8985989/#.UFcN8RgUwaA,,CNN\\r\\n']\n"
     ]
    }
   ],
   "source": [
    "#checking data\n",
    "from itertools import islice\n",
    "with open(\"db_data_2017.csv\") as myfile:\n",
    "    head = list(islice(myfile, 3))\n",
    "print head"
   ]
  },
  {
   "cell_type": "code",
   "execution_count": 26,
   "metadata": {
    "collapsed": true
   },
   "outputs": [],
   "source": []
  },
  {
   "cell_type": "code",
   "execution_count": 111,
   "metadata": {},
   "outputs": [
    {
     "data": {
      "text/plain": [
       "Entity                   object\n",
       "alternative name         object\n",
       "story                    object\n",
       "YEAR                     object\n",
       "records lost             object\n",
       "ORGANISATION             object\n",
       "METHOD OF LEAK           object\n",
       "interesting story        object\n",
       "NO OF RECORDS STOLEN     object\n",
       "DATA SENSITIVITY         object\n",
       "UNUSED                  float64\n",
       "UNUSED.1                float64\n",
       "Exclude                  object\n",
       "Unnamed: 13              object\n",
       "1st source link          object\n",
       "2nd source link          object\n",
       "3rd source               object\n",
       "source name              object\n",
       "dtype: object"
      ]
     },
     "execution_count": 111,
     "metadata": {},
     "output_type": "execute_result"
    }
   ],
   "source": [
    "#checking datatypes\n",
    "db_data_2017.dtypes"
   ]
  },
  {
   "cell_type": "code",
   "execution_count": 112,
   "metadata": {
    "collapsed": true
   },
   "outputs": [],
   "source": [
    "# selecting only required columns from data frames and renaming those columns\n",
    "db_data_2017 = db_data_2017[['Entity','story','YEAR','ORGANISATION','METHOD OF LEAK','NO OF RECORDS STOLEN','DATA SENSITIVITY','source name']]\n",
    "db_data_2017.columns = ['ENTITY','STORY','YEAR','ORGANISATION','METHOD OF LEAK','NO OF RECORDS STOLEN','DATA SENSITIVITY', 'SOURCE NAME']"
   ]
  },
  {
   "cell_type": "code",
   "execution_count": 113,
   "metadata": {},
   "outputs": [
    {
     "data": {
      "text/plain": [
       "ENTITY                  object\n",
       "STORY                   object\n",
       "YEAR                    object\n",
       "ORGANISATION            object\n",
       "METHOD OF LEAK          object\n",
       "NO OF RECORDS STOLEN    object\n",
       "DATA SENSITIVITY        object\n",
       "SOURCE NAME             object\n",
       "dtype: object"
      ]
     },
     "execution_count": 113,
     "metadata": {},
     "output_type": "execute_result"
    }
   ],
   "source": [
    "#checking datatypes again\n",
    "db_data_2017.dtypes"
   ]
  },
  {
   "cell_type": "code",
   "execution_count": 114,
   "metadata": {
    "collapsed": true
   },
   "outputs": [],
   "source": [
    "#changing YEAR values from the codes\n",
    "db_data_2017.loc[db_data_2017['YEAR'] == '0', 'YEAR'] = 2004\n",
    "db_data_2017.loc[db_data_2017['YEAR'] == '1', 'YEAR'] = 2005\n",
    "db_data_2017.loc[db_data_2017['YEAR'] == '2', 'YEAR'] = 2006\n",
    "db_data_2017.loc[db_data_2017['YEAR'] == '3', 'YEAR'] = 2007\n",
    "db_data_2017.loc[db_data_2017['YEAR'] == '4', 'YEAR'] = 2008\n",
    "db_data_2017.loc[db_data_2017['YEAR'] == '5', 'YEAR'] = 2009\n",
    "db_data_2017.loc[db_data_2017['YEAR'] == '6', 'YEAR'] = 2010\n",
    "db_data_2017.loc[db_data_2017['YEAR'] == '7', 'YEAR'] = 2011\n",
    "db_data_2017.loc[db_data_2017['YEAR'] == '8', 'YEAR'] = 2012\n",
    "db_data_2017.loc[db_data_2017['YEAR'] == '9', 'YEAR'] = 2013\n",
    "db_data_2017.loc[db_data_2017['YEAR'] == '10', 'YEAR'] = 2014\n",
    "db_data_2017.loc[db_data_2017['YEAR'] == '11', 'YEAR'] = 2015\n",
    "db_data_2017.loc[db_data_2017['YEAR'] == '12', 'YEAR'] = 2016\n",
    "db_data_2017.loc[db_data_2017['YEAR'] == '13', 'YEAR'] = 2017\n",
    "db_data_2017.loc[db_data_2017['YEAR'] == '14', 'YEAR'] = 'latest'"
   ]
  },
  {
   "cell_type": "code",
   "execution_count": 37,
   "metadata": {
    "collapsed": true
   },
   "outputs": [],
   "source": [
    "#changing DATA SENSITIIVITY values from the codes\n",
    "\"\"\"\n",
    "db_data_2017.loc[db_data_2017['DATA SENSITIVITY'] == '1', 'DATA SENSITIVITY'] = 'Just email address/Online information'\n",
    "db_data_2017.loc[db_data_2017['DATA SENSITIVITY'] == '20', 'DATA SENSITIVITY'] = 'SSN/Personal details'\n",
    "db_data_2017.loc[db_data_2017['DATA SENSITIVITY'] == '300', 'DATA SENSITIVITY'] = 'Credit card information'\n",
    "db_data_2017.loc[db_data_2017['DATA SENSITIVITY'] == '4000', 'DATA SENSITIVITY'] = 'Email password/Health records'\n",
    "db_data_2017.loc[db_data_2017['DATA SENSITIVITY'] == '50000', 'DATA SENSITIVITY'] = 'Full bank account details'\n",
    "\"\"\""
   ]
  },
  {
   "cell_type": "code",
   "execution_count": 115,
   "metadata": {
    "collapsed": true
   },
   "outputs": [],
   "source": [
    "#saving dataframe as CSV file\n",
    "db_data_2017.to_csv('databreach_2017.csv')"
   ]
  },
  {
   "cell_type": "code",
   "execution_count": 116,
   "metadata": {
    "collapsed": true
   },
   "outputs": [],
   "source": [
    "#coverting a CSV file into a dataframe\n",
    "db_data_2015 = pd.read_csv('Information is Beautiful- Data Breaches (public) - Jan 2015 update.csv')"
   ]
  },
  {
   "cell_type": "code",
   "execution_count": 117,
   "metadata": {
    "collapsed": true
   },
   "outputs": [],
   "source": [
    "with open(\"Information is Beautiful- Data Breaches (public) - Jan 2015 update.csv\",'r') as f, open(\"db_data_2015.csv\",'w') as f1:\n",
    "    next(f) # skip header line\n",
    "    for line in f:\n",
    "        f1.write(line)"
   ]
  },
  {
   "cell_type": "code",
   "execution_count": 118,
   "metadata": {
    "collapsed": true
   },
   "outputs": [],
   "source": [
    "db_data_2015 = pd.read_csv('db_data_2015.csv')"
   ]
  },
  {
   "cell_type": "code",
   "execution_count": null,
   "metadata": {
    "collapsed": true
   },
   "outputs": [],
   "source": []
  },
  {
   "cell_type": "code",
   "execution_count": null,
   "metadata": {
    "collapsed": true
   },
   "outputs": [],
   "source": []
  },
  {
   "cell_type": "code",
   "execution_count": 63,
   "metadata": {
    "collapsed": true
   },
   "outputs": [],
   "source": []
  },
  {
   "cell_type": "code",
   "execution_count": 119,
   "metadata": {
    "collapsed": true
   },
   "outputs": [],
   "source": [
    "db_data_2015 = db_data_2015.dropna(subset=['Entity'], how='any')"
   ]
  },
  {
   "cell_type": "code",
   "execution_count": 120,
   "metadata": {},
   "outputs": [
    {
     "name": "stdout",
     "output_type": "stream",
     "text": [
      "['Entity,alternative name,story,YEAR,records lost,ORGANISATION,METHOD OF LEAK,interesting story,NO OF RECORDS STOLEN,DATA SENSITIVITY,UNUSED,UNUSED,Exclude,,1st source link,2nd source link,3rd source,source name\\r\\n', ',,Elaboration if there\\'s an interesting story or detail behind it,\"years are encoded (0=2004, 8 = 2012, 9 = 2013, 10=2014, 11=2015, 12=2016, 13 = 2017, 14=latest\",\"(use 3m, 4m, 5m or 10m to approximate unknown figures)\",,,,\"(use 3m, 4m, 5m or 10m to approximate unknown figures)\",1. Just email address/Online information 20 SSN/Personal details 300 Credit card information 4000 Email password/Health records 50000 Full bank account details,,,Show this item in the viz?,,,,,\\r\\n', 'AOL,American Online,A former America Online software engineer stole 92 million screen names and e-mail addresses and sold them to spammers who sent out up to 7 billion unsolicited e-mails.,0,92000000,web,inside job,,92000000,1,,,,,http://money.cnn.com/2004/06/23/technology/aol_spam/,http://www.msnbc.msn.com/id/8985989/#.UFcN8RgUwaA,,CNN\\r\\n']\n"
     ]
    }
   ],
   "source": [
    "from itertools import islice\n",
    "with open(\"db_data_2017.csv\") as myfile:\n",
    "    head = list(islice(myfile, 3))\n",
    "print head"
   ]
  },
  {
   "cell_type": "code",
   "execution_count": 121,
   "metadata": {},
   "outputs": [
    {
     "data": {
      "text/plain": [
       "Entity                         object\n",
       "alternative name               object\n",
       "story                          object\n",
       "YEAR                           object\n",
       "records lost                   object\n",
       "ORGANISATION                   object\n",
       "METHOD OF LEAK                 object\n",
       "interesting story              object\n",
       "NO OF RECORDS STOLEN           object\n",
       "DATA SENSITIVITY               object\n",
       "UNUSED                        float64\n",
       "UNUSED.1                      float64\n",
       "Exclude                        object\n",
       "Unnamed: 13                   float64\n",
       "1st source link                object\n",
       "2nd source link                object\n",
       "3rd source                     object\n",
       "source name                    object\n",
       "UNUSED.2                       object\n",
       "UNUSED.3                      float64\n",
       "UNUSED.4                      float64\n",
       "UNUSED.5                      float64\n",
       "UNUSED.6                      float64\n",
       "UNUSED.7                      float64\n",
       "Unnamed: 24                   float64\n",
       "Link to individual study      float64\n",
       "Link to individual study.1    float64\n",
       "Link to individual study.2    float64\n",
       "Link to individual study.3    float64\n",
       "Link to individual study.4    float64\n",
       "Link to individual study.5    float64\n",
       "Link to individual study.6    float64\n",
       "Link to individual study.7    float64\n",
       "Link to individual study.8    float64\n",
       "Link to individual study.9    float64\n",
       "dtype: object"
      ]
     },
     "execution_count": 121,
     "metadata": {},
     "output_type": "execute_result"
    }
   ],
   "source": [
    "db_data_2015.dtypes"
   ]
  },
  {
   "cell_type": "code",
   "execution_count": 122,
   "metadata": {
    "collapsed": true
   },
   "outputs": [],
   "source": [
    "# selecting only required columns from data frames and renaming those columns\n",
    "db_data_2015 = db_data_2015[['Entity','story','YEAR','ORGANISATION','METHOD OF LEAK','NO OF RECORDS STOLEN','DATA SENSITIVITY','source name']]\n",
    "db_data_2015.columns = ['ENTITY','STORY','YEAR','ORGANISATION','METHOD OF LEAK','NO OF RECORDS STOLEN','DATA SENSITIVITY', 'SOURCE NAME']"
   ]
  },
  {
   "cell_type": "code",
   "execution_count": 123,
   "metadata": {},
   "outputs": [
    {
     "data": {
      "text/plain": [
       "ENTITY                  object\n",
       "STORY                   object\n",
       "YEAR                    object\n",
       "ORGANISATION            object\n",
       "METHOD OF LEAK          object\n",
       "NO OF RECORDS STOLEN    object\n",
       "DATA SENSITIVITY        object\n",
       "SOURCE NAME             object\n",
       "dtype: object"
      ]
     },
     "execution_count": 123,
     "metadata": {},
     "output_type": "execute_result"
    }
   ],
   "source": [
    "db_data_2015.dtypes"
   ]
  },
  {
   "cell_type": "code",
   "execution_count": 124,
   "metadata": {
    "collapsed": true
   },
   "outputs": [],
   "source": [
    "db_data_2015.loc[db_data_2015['YEAR'] == '0', 'YEAR'] = 2004\n",
    "db_data_2015.loc[db_data_2015['YEAR'] == '1', 'YEAR'] = 2005\n",
    "db_data_2015.loc[db_data_2015['YEAR'] == '2', 'YEAR'] = 2006\n",
    "db_data_2015.loc[db_data_2015['YEAR'] == '3', 'YEAR'] = 2007\n",
    "db_data_2015.loc[db_data_2015['YEAR'] == '4', 'YEAR'] = 2008\n",
    "db_data_2015.loc[db_data_2015['YEAR'] == '5', 'YEAR'] = 2009\n",
    "db_data_2015.loc[db_data_2015['YEAR'] == '6', 'YEAR'] = 2010\n",
    "db_data_2015.loc[db_data_2015['YEAR'] == '7', 'YEAR'] = 2011\n",
    "db_data_2015.loc[db_data_2015['YEAR'] == '8', 'YEAR'] = 2012\n",
    "db_data_2015.loc[db_data_2015['YEAR'] == '9', 'YEAR'] = 2013\n",
    "db_data_2015.loc[db_data_2015['YEAR'] == '10', 'YEAR'] = 2014\n",
    "db_data_2015.loc[db_data_2015['YEAR'] == '11', 'YEAR'] = 2015\n",
    "db_data_2015.loc[db_data_2015['YEAR'] == '12', 'YEAR'] = 2016\n",
    "db_data_2015.loc[db_data_2015['YEAR'] == '13', 'YEAR'] = 2017\n",
    "db_data_2015.loc[db_data_2015['YEAR'] == '14', 'YEAR'] = 'latest'"
   ]
  },
  {
   "cell_type": "code",
   "execution_count": 73,
   "metadata": {
    "collapsed": true
   },
   "outputs": [],
   "source": [
    "\"\"\"\n",
    "db_data_2015.loc[db_data_2015['DATA SENSITIVITY'] == '1', 'DATA SENSITIVITY'] = 'Just email address/Online information'\n",
    "db_data_2015.loc[db_data_2015['DATA SENSITIVITY'] == '20', 'DATA SENSITIVITY'] = 'SSN/Personal details'\n",
    "db_data_2015.loc[db_data_2015['DATA SENSITIVITY'] == '300', 'DATA SENSITIVITY'] = 'Credit card information'\n",
    "db_data_2015.loc[db_data_2015['DATA SENSITIVITY'] == '4000', 'DATA SENSITIVITY'] = 'Email password/Health records'\n",
    "db_data_2015.loc[db_data_2015['DATA SENSITIVITY'] == '50000', 'DATA SENSITIVITY'] = 'Full bank account details'\n",
    "\"\"\""
   ]
  },
  {
   "cell_type": "code",
   "execution_count": 125,
   "metadata": {
    "collapsed": true
   },
   "outputs": [],
   "source": [
    "# to remove rows with no YEAR specified\n",
    "db_data_2015 = db_data_2015.dropna(axis=0, subset=['YEAR'], how='any')"
   ]
  },
  {
   "cell_type": "code",
   "execution_count": null,
   "metadata": {
    "collapsed": true
   },
   "outputs": [],
   "source": []
  },
  {
   "cell_type": "code",
   "execution_count": 127,
   "metadata": {
    "collapsed": true
   },
   "outputs": [],
   "source": [
    "db_data_2015.to_csv('databreach_2015.csv')"
   ]
  },
  {
   "cell_type": "code",
   "execution_count": 128,
   "metadata": {
    "collapsed": true
   },
   "outputs": [],
   "source": [
    "#coverting CSV file into a dataframe\n",
    "db_data_2013 = pd.read_csv('Information is Beautiful- Data Breaches (public) - July 2013 update (old).csv')"
   ]
  },
  {
   "cell_type": "code",
   "execution_count": 130,
   "metadata": {},
   "outputs": [],
   "source": [
    "with open(\"Information is Beautiful- Data Breaches (public) - July 2013 update (old).csv\",'r') as f, open(\"db_data_2013.csv\",'w') as f1:\n",
    "    next(f) # skip header line\n",
    "    for line in f:\n",
    "        f1.write(line)"
   ]
  },
  {
   "cell_type": "code",
   "execution_count": 131,
   "metadata": {
    "collapsed": true
   },
   "outputs": [],
   "source": [
    "db_data_2013 = pd.read_csv('db_data_2013.csv')"
   ]
  },
  {
   "cell_type": "code",
   "execution_count": 133,
   "metadata": {
    "collapsed": true
   },
   "outputs": [],
   "source": [
    "db_data_2013 = db_data_2013.dropna(subset=['Entity'], how='any')"
   ]
  },
  {
   "cell_type": "code",
   "execution_count": 134,
   "metadata": {},
   "outputs": [
    {
     "name": "stdout",
     "output_type": "stream",
     "text": [
      "['Entity,alternative name,story,YEAR,records lost,ORGANISATION,METHOD OF LEAK,interesting story,NO OF RECORDS STOLEN,DATA SENSITIVITY,UNUSED,UNUSED,Exclude,,1st source link,2nd source link,3rd source,source name,UNUSED,UNUSED,UNUSED,UNUSED,UNUSED,UNUSED,,Link to individual study,Link to individual study,Link to individual study,Link to individual study,Link to individual study,Link to individual study,Link to individual study,Link to individual study,Link to individual study,Link to individual study\\r\\n', ',,Elaboration if there\\'s an interesting story or detail behind it,\"years are encoded (0=2004, 8 = 2012, 9 = 2013)\",context & leak size,,,,,1. Just email address/Online information 2. SSN/Personal details 3. Credit card information 4.Email password/Health records 5. Full bank account details,,,Show this item in the viz?,,,,,,,,,,,,,,,,,,,,,,\\r\\n', 'Accendo Insurance Co. ,,\"Mismailed letters which allowed some lines of sensitive information (medication name, date of birth, and member ID) to be visible through the envelope window. The mailings were addressed correctly and, to the knowledge of the company, were received by the intended recipients.\",7,\"175,350\",healthcare,poor security,,175350,4,,,,,http://www.databreaches.net/?p=19198,http://www.hhs.gov/ocr/privacy/hipaa/administrative/breachnotificationrule/breachtool.html,,,,,,,,,,,,,,,,,,,\\r\\n']\n"
     ]
    }
   ],
   "source": [
    "from itertools import islice\n",
    "with open(\"db_data_2013.csv\") as myfile:\n",
    "    head = list(islice(myfile, 3))\n",
    "print head"
   ]
  },
  {
   "cell_type": "code",
   "execution_count": 135,
   "metadata": {},
   "outputs": [
    {
     "data": {
      "text/plain": [
       "Entity                         object\n",
       "alternative name               object\n",
       "story                          object\n",
       "YEAR                           object\n",
       "records lost                   object\n",
       "ORGANISATION                   object\n",
       "METHOD OF LEAK                 object\n",
       "interesting story              object\n",
       "NO OF RECORDS STOLEN           object\n",
       "DATA SENSITIVITY               object\n",
       "UNUSED                        float64\n",
       "UNUSED.1                      float64\n",
       "Exclude                        object\n",
       "Unnamed: 13                   float64\n",
       "1st source link                object\n",
       "2nd source link                object\n",
       "3rd source                     object\n",
       "source name                    object\n",
       "UNUSED.2                       object\n",
       "UNUSED.3                      float64\n",
       "UNUSED.4                      float64\n",
       "UNUSED.5                      float64\n",
       "UNUSED.6                      float64\n",
       "UNUSED.7                      float64\n",
       "Unnamed: 24                   float64\n",
       "Link to individual study      float64\n",
       "Link to individual study.1    float64\n",
       "Link to individual study.2    float64\n",
       "Link to individual study.3    float64\n",
       "Link to individual study.4    float64\n",
       "Link to individual study.5    float64\n",
       "Link to individual study.6    float64\n",
       "Link to individual study.7    float64\n",
       "Link to individual study.8    float64\n",
       "Link to individual study.9    float64\n",
       "dtype: object"
      ]
     },
     "execution_count": 135,
     "metadata": {},
     "output_type": "execute_result"
    }
   ],
   "source": [
    "db_data_2013.dtypes"
   ]
  },
  {
   "cell_type": "code",
   "execution_count": 136,
   "metadata": {
    "collapsed": true
   },
   "outputs": [],
   "source": [
    "# selecting only required columns from data frames and renaming those columns\n",
    "db_data_2013 = db_data_2013[['Entity','story','YEAR','ORGANISATION','METHOD OF LEAK','NO OF RECORDS STOLEN','DATA SENSITIVITY','source name']]\n",
    "db_data_2013.columns = ['ENTITY','STORY','YEAR','ORGANISATION','METHOD OF LEAK','NO OF RECORDS STOLEN','DATA SENSITIVITY', 'SOURCE NAME']"
   ]
  },
  {
   "cell_type": "code",
   "execution_count": 137,
   "metadata": {},
   "outputs": [
    {
     "data": {
      "text/plain": [
       "ENTITY                  object\n",
       "STORY                   object\n",
       "YEAR                    object\n",
       "ORGANISATION            object\n",
       "METHOD OF LEAK          object\n",
       "NO OF RECORDS STOLEN    object\n",
       "DATA SENSITIVITY        object\n",
       "SOURCE NAME             object\n",
       "dtype: object"
      ]
     },
     "execution_count": 137,
     "metadata": {},
     "output_type": "execute_result"
    }
   ],
   "source": [
    "db_data_2013.dtypes"
   ]
  },
  {
   "cell_type": "code",
   "execution_count": 138,
   "metadata": {
    "collapsed": true
   },
   "outputs": [],
   "source": [
    "db_data_2013.loc[db_data_2013['YEAR'] == '0', 'YEAR'] = 2004\n",
    "db_data_2013.loc[db_data_2013['YEAR'] == '1', 'YEAR'] = 2005\n",
    "db_data_2013.loc[db_data_2013['YEAR'] == '2', 'YEAR'] = 2006\n",
    "db_data_2013.loc[db_data_2013['YEAR'] == '3', 'YEAR'] = 2007\n",
    "db_data_2013.loc[db_data_2013['YEAR'] == '4', 'YEAR'] = 2008\n",
    "db_data_2013.loc[db_data_2013['YEAR'] == '5', 'YEAR'] = 2009\n",
    "db_data_2013.loc[db_data_2013['YEAR'] == '6', 'YEAR'] = 2010\n",
    "db_data_2013.loc[db_data_2013['YEAR'] == '7', 'YEAR'] = 2011\n",
    "db_data_2013.loc[db_data_2013['YEAR'] == '8', 'YEAR'] = 2012\n",
    "db_data_2013.loc[db_data_2013['YEAR'] == '9', 'YEAR'] = 2013\n",
    "db_data_2013.loc[db_data_2013['YEAR'] == '10', 'YEAR'] = 2014\n",
    "db_data_2013.loc[db_data_2013['YEAR'] == '11', 'YEAR'] = 2015\n",
    "db_data_2013.loc[db_data_2013['YEAR'] == '12', 'YEAR'] = 2016\n",
    "db_data_2013.loc[db_data_2013['YEAR'] == '13', 'YEAR'] = 2017\n",
    "db_data_2013.loc[db_data_2013['YEAR'] == '14', 'YEAR'] = 'latest'"
   ]
  },
  {
   "cell_type": "code",
   "execution_count": 89,
   "metadata": {
    "collapsed": true
   },
   "outputs": [],
   "source": [
    "\"\"\"\n",
    "db_data_2013.loc[db_data_2013['DATA SENSITIVITY'] == '1', 'DATA SENSITIVITY'] = 'Just email address/Online information'\n",
    "db_data_2013.loc[db_data_2013['DATA SENSITIVITY'] == '20', 'DATA SENSITIVITY'] = 'SSN/Personal details'\n",
    "db_data_2013.loc[db_data_2013['DATA SENSITIVITY'] == '300', 'DATA SENSITIVITY'] = 'Credit card information'\n",
    "db_data_2013.loc[db_data_2013['DATA SENSITIVITY'] == '4000', 'DATA SENSITIVITY'] = 'Email password/Health records'\n",
    "db_data_2013.loc[db_data_2013['DATA SENSITIVITY'] == '50000', 'DATA SENSITIVITY'] = 'Full bank account details'\n",
    "\"\"\""
   ]
  },
  {
   "cell_type": "code",
   "execution_count": 139,
   "metadata": {
    "collapsed": true
   },
   "outputs": [],
   "source": [
    "db_data_2013.to_csv('databreach_2013.csv')"
   ]
  },
  {
   "cell_type": "code",
   "execution_count": null,
   "metadata": {
    "collapsed": true
   },
   "outputs": [],
   "source": []
  }
 ],
 "metadata": {
  "kernelspec": {
   "display_name": "Python 2",
   "language": "python",
   "name": "python2"
  },
  "language_info": {
   "codemirror_mode": {
    "name": "ipython",
    "version": 2
   },
   "file_extension": ".py",
   "mimetype": "text/x-python",
   "name": "python",
   "nbconvert_exporter": "python",
   "pygments_lexer": "ipython2",
   "version": "2.7.13"
  }
 },
 "nbformat": 4,
 "nbformat_minor": 2
}
